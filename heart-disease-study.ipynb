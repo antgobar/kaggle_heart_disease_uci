{
 "cells": [
  {
   "cell_type": "markdown",
   "metadata": {},
   "source": [
    "# Heart Disease Study on \"Heard Disease UCI\" kaggle dataset"
   ]
  },
  {
   "cell_type": "code",
   "execution_count": 4,
   "metadata": {
    "_cell_guid": "b1076dfc-b9ad-4769-8c92-a6c4dae69d19",
    "_uuid": "8f2839f25d086af736a60e9eeb907d3b93b6e0e5",
    "collapsed": false
   },
   "outputs": [],
   "source": [
    "# This Python 3 environment comes with many helpful analytics libraries installed\n",
    "# It is defined by the kaggle/python Docker image: https://github.com/kaggle/docker-python\n",
    "# For example, here's several helpful packages to load\n",
    "\n",
    "import numpy as np\n",
    "import pandas as pd\n",
    "import matplotlib.pyplot as plt\n",
    "import seaborn as sns\n",
    "import math as m\n",
    "import tensorflow as tf\n",
    "from sklearn import preprocessing\n",
    "\n",
    "\n",
    "# Input data files are available in the read-only \"../input/\" directory\n",
    "# For example, running this (by clicking run or pressing Shift+Enter) will list all files under the input directory\n",
    "\n",
    "import os\n",
    "for dirname, _, filenames in os.walk('/kaggle/input'):\n",
    "    for filename in filenames:\n",
    "        print(os.path.join(dirname, filename))\n",
    "\n",
    "# You can write up to 5GB to the current directory (/kaggle/working/) that gets preserved as output when you create a version using \"Save & Run All\" \n",
    "# You can also write temporary files to /kaggle/temp/, but they won't be saved outside of the current session"
   ]
  },
  {
   "cell_type": "markdown",
   "metadata": {},
   "source": [
    "### First look at the data: 13 feature columns and 1 target column at the end with presence (1) or no presence (0) of heart disease"
   ]
  },
  {
   "cell_type": "code",
   "execution_count": 2,
   "metadata": {
    "collapsed": false
   },
   "outputs": [
    {
     "data": {
      "text/html": [
       "<div>\n",
       "<style scoped>\n",
       "    .dataframe tbody tr th:only-of-type {\n",
       "        vertical-align: middle;\n",
       "    }\n",
       "\n",
       "    .dataframe tbody tr th {\n",
       "        vertical-align: top;\n",
       "    }\n",
       "\n",
       "    .dataframe thead th {\n",
       "        text-align: right;\n",
       "    }\n",
       "</style>\n",
       "<table border=\"1\" class=\"dataframe\">\n",
       "  <thead>\n",
       "    <tr style=\"text-align: right;\">\n",
       "      <th></th>\n",
       "      <th>age</th>\n",
       "      <th>sex</th>\n",
       "      <th>cp</th>\n",
       "      <th>trestbps</th>\n",
       "      <th>chol</th>\n",
       "      <th>fbs</th>\n",
       "      <th>restecg</th>\n",
       "      <th>thalach</th>\n",
       "      <th>exang</th>\n",
       "      <th>oldpeak</th>\n",
       "      <th>slope</th>\n",
       "      <th>ca</th>\n",
       "      <th>thal</th>\n",
       "      <th>target</th>\n",
       "    </tr>\n",
       "  </thead>\n",
       "  <tbody>\n",
       "    <tr>\n",
       "      <th>count</th>\n",
       "      <td>303.000000</td>\n",
       "      <td>303.000000</td>\n",
       "      <td>303.000000</td>\n",
       "      <td>303.000000</td>\n",
       "      <td>303.000000</td>\n",
       "      <td>303.000000</td>\n",
       "      <td>303.000000</td>\n",
       "      <td>303.000000</td>\n",
       "      <td>303.000000</td>\n",
       "      <td>303.000000</td>\n",
       "      <td>303.000000</td>\n",
       "      <td>303.000000</td>\n",
       "      <td>303.000000</td>\n",
       "      <td>303.000000</td>\n",
       "    </tr>\n",
       "    <tr>\n",
       "      <th>mean</th>\n",
       "      <td>54.366337</td>\n",
       "      <td>0.683168</td>\n",
       "      <td>0.966997</td>\n",
       "      <td>131.623762</td>\n",
       "      <td>246.264026</td>\n",
       "      <td>0.148515</td>\n",
       "      <td>0.528053</td>\n",
       "      <td>149.646865</td>\n",
       "      <td>0.326733</td>\n",
       "      <td>1.039604</td>\n",
       "      <td>1.399340</td>\n",
       "      <td>0.729373</td>\n",
       "      <td>2.313531</td>\n",
       "      <td>0.544554</td>\n",
       "    </tr>\n",
       "    <tr>\n",
       "      <th>std</th>\n",
       "      <td>9.082101</td>\n",
       "      <td>0.466011</td>\n",
       "      <td>1.032052</td>\n",
       "      <td>17.538143</td>\n",
       "      <td>51.830751</td>\n",
       "      <td>0.356198</td>\n",
       "      <td>0.525860</td>\n",
       "      <td>22.905161</td>\n",
       "      <td>0.469794</td>\n",
       "      <td>1.161075</td>\n",
       "      <td>0.616226</td>\n",
       "      <td>1.022606</td>\n",
       "      <td>0.612277</td>\n",
       "      <td>0.498835</td>\n",
       "    </tr>\n",
       "    <tr>\n",
       "      <th>min</th>\n",
       "      <td>29.000000</td>\n",
       "      <td>0.000000</td>\n",
       "      <td>0.000000</td>\n",
       "      <td>94.000000</td>\n",
       "      <td>126.000000</td>\n",
       "      <td>0.000000</td>\n",
       "      <td>0.000000</td>\n",
       "      <td>71.000000</td>\n",
       "      <td>0.000000</td>\n",
       "      <td>0.000000</td>\n",
       "      <td>0.000000</td>\n",
       "      <td>0.000000</td>\n",
       "      <td>0.000000</td>\n",
       "      <td>0.000000</td>\n",
       "    </tr>\n",
       "    <tr>\n",
       "      <th>25%</th>\n",
       "      <td>47.500000</td>\n",
       "      <td>0.000000</td>\n",
       "      <td>0.000000</td>\n",
       "      <td>120.000000</td>\n",
       "      <td>211.000000</td>\n",
       "      <td>0.000000</td>\n",
       "      <td>0.000000</td>\n",
       "      <td>133.500000</td>\n",
       "      <td>0.000000</td>\n",
       "      <td>0.000000</td>\n",
       "      <td>1.000000</td>\n",
       "      <td>0.000000</td>\n",
       "      <td>2.000000</td>\n",
       "      <td>0.000000</td>\n",
       "    </tr>\n",
       "    <tr>\n",
       "      <th>50%</th>\n",
       "      <td>55.000000</td>\n",
       "      <td>1.000000</td>\n",
       "      <td>1.000000</td>\n",
       "      <td>130.000000</td>\n",
       "      <td>240.000000</td>\n",
       "      <td>0.000000</td>\n",
       "      <td>1.000000</td>\n",
       "      <td>153.000000</td>\n",
       "      <td>0.000000</td>\n",
       "      <td>0.800000</td>\n",
       "      <td>1.000000</td>\n",
       "      <td>0.000000</td>\n",
       "      <td>2.000000</td>\n",
       "      <td>1.000000</td>\n",
       "    </tr>\n",
       "    <tr>\n",
       "      <th>75%</th>\n",
       "      <td>61.000000</td>\n",
       "      <td>1.000000</td>\n",
       "      <td>2.000000</td>\n",
       "      <td>140.000000</td>\n",
       "      <td>274.500000</td>\n",
       "      <td>0.000000</td>\n",
       "      <td>1.000000</td>\n",
       "      <td>166.000000</td>\n",
       "      <td>1.000000</td>\n",
       "      <td>1.600000</td>\n",
       "      <td>2.000000</td>\n",
       "      <td>1.000000</td>\n",
       "      <td>3.000000</td>\n",
       "      <td>1.000000</td>\n",
       "    </tr>\n",
       "    <tr>\n",
       "      <th>max</th>\n",
       "      <td>77.000000</td>\n",
       "      <td>1.000000</td>\n",
       "      <td>3.000000</td>\n",
       "      <td>200.000000</td>\n",
       "      <td>564.000000</td>\n",
       "      <td>1.000000</td>\n",
       "      <td>2.000000</td>\n",
       "      <td>202.000000</td>\n",
       "      <td>1.000000</td>\n",
       "      <td>6.200000</td>\n",
       "      <td>2.000000</td>\n",
       "      <td>4.000000</td>\n",
       "      <td>3.000000</td>\n",
       "      <td>1.000000</td>\n",
       "    </tr>\n",
       "  </tbody>\n",
       "</table>\n",
       "</div>"
      ],
      "text/plain": [
       "              age         sex          cp    trestbps        chol         fbs  \\\n",
       "count  303.000000  303.000000  303.000000  303.000000  303.000000  303.000000   \n",
       "mean    54.366337    0.683168    0.966997  131.623762  246.264026    0.148515   \n",
       "std      9.082101    0.466011    1.032052   17.538143   51.830751    0.356198   \n",
       "min     29.000000    0.000000    0.000000   94.000000  126.000000    0.000000   \n",
       "25%     47.500000    0.000000    0.000000  120.000000  211.000000    0.000000   \n",
       "50%     55.000000    1.000000    1.000000  130.000000  240.000000    0.000000   \n",
       "75%     61.000000    1.000000    2.000000  140.000000  274.500000    0.000000   \n",
       "max     77.000000    1.000000    3.000000  200.000000  564.000000    1.000000   \n",
       "\n",
       "          restecg     thalach       exang     oldpeak       slope          ca  \\\n",
       "count  303.000000  303.000000  303.000000  303.000000  303.000000  303.000000   \n",
       "mean     0.528053  149.646865    0.326733    1.039604    1.399340    0.729373   \n",
       "std      0.525860   22.905161    0.469794    1.161075    0.616226    1.022606   \n",
       "min      0.000000   71.000000    0.000000    0.000000    0.000000    0.000000   \n",
       "25%      0.000000  133.500000    0.000000    0.000000    1.000000    0.000000   \n",
       "50%      1.000000  153.000000    0.000000    0.800000    1.000000    0.000000   \n",
       "75%      1.000000  166.000000    1.000000    1.600000    2.000000    1.000000   \n",
       "max      2.000000  202.000000    1.000000    6.200000    2.000000    4.000000   \n",
       "\n",
       "             thal      target  \n",
       "count  303.000000  303.000000  \n",
       "mean     2.313531    0.544554  \n",
       "std      0.612277    0.498835  \n",
       "min      0.000000    0.000000  \n",
       "25%      2.000000    0.000000  \n",
       "50%      2.000000    1.000000  \n",
       "75%      3.000000    1.000000  \n",
       "max      3.000000    1.000000  "
      ]
     },
     "execution_count": 2,
     "metadata": {},
     "output_type": "execute_result"
    }
   ],
   "source": [
    "# df = pd.read_csv('/kaggle/input/heart-disease-uci/heart.csv')\n",
    "df = pd.read_csv('heart.csv')\n",
    "df.describe()"
   ]
  },
  {
   "cell_type": "code",
   "execution_count": 3,
   "metadata": {
    "collapsed": false
   },
   "outputs": [
    {
     "data": {
      "text/html": [
       "<div>\n",
       "<style scoped>\n",
       "    .dataframe tbody tr th:only-of-type {\n",
       "        vertical-align: middle;\n",
       "    }\n",
       "\n",
       "    .dataframe tbody tr th {\n",
       "        vertical-align: top;\n",
       "    }\n",
       "\n",
       "    .dataframe thead th {\n",
       "        text-align: right;\n",
       "    }\n",
       "</style>\n",
       "<table border=\"1\" class=\"dataframe\">\n",
       "  <thead>\n",
       "    <tr style=\"text-align: right;\">\n",
       "      <th></th>\n",
       "      <th>age</th>\n",
       "      <th>sex</th>\n",
       "      <th>cp</th>\n",
       "      <th>trestbps</th>\n",
       "      <th>chol</th>\n",
       "      <th>fbs</th>\n",
       "      <th>restecg</th>\n",
       "      <th>thalach</th>\n",
       "      <th>exang</th>\n",
       "      <th>oldpeak</th>\n",
       "      <th>slope</th>\n",
       "      <th>ca</th>\n",
       "      <th>thal</th>\n",
       "      <th>target</th>\n",
       "    </tr>\n",
       "  </thead>\n",
       "  <tbody>\n",
       "    <tr>\n",
       "      <th>0</th>\n",
       "      <td>63</td>\n",
       "      <td>1</td>\n",
       "      <td>3</td>\n",
       "      <td>145</td>\n",
       "      <td>233</td>\n",
       "      <td>1</td>\n",
       "      <td>0</td>\n",
       "      <td>150</td>\n",
       "      <td>0</td>\n",
       "      <td>2.3</td>\n",
       "      <td>0</td>\n",
       "      <td>0</td>\n",
       "      <td>1</td>\n",
       "      <td>1</td>\n",
       "    </tr>\n",
       "    <tr>\n",
       "      <th>1</th>\n",
       "      <td>37</td>\n",
       "      <td>1</td>\n",
       "      <td>2</td>\n",
       "      <td>130</td>\n",
       "      <td>250</td>\n",
       "      <td>0</td>\n",
       "      <td>1</td>\n",
       "      <td>187</td>\n",
       "      <td>0</td>\n",
       "      <td>3.5</td>\n",
       "      <td>0</td>\n",
       "      <td>0</td>\n",
       "      <td>2</td>\n",
       "      <td>1</td>\n",
       "    </tr>\n",
       "    <tr>\n",
       "      <th>2</th>\n",
       "      <td>41</td>\n",
       "      <td>0</td>\n",
       "      <td>1</td>\n",
       "      <td>130</td>\n",
       "      <td>204</td>\n",
       "      <td>0</td>\n",
       "      <td>0</td>\n",
       "      <td>172</td>\n",
       "      <td>0</td>\n",
       "      <td>1.4</td>\n",
       "      <td>2</td>\n",
       "      <td>0</td>\n",
       "      <td>2</td>\n",
       "      <td>1</td>\n",
       "    </tr>\n",
       "    <tr>\n",
       "      <th>3</th>\n",
       "      <td>56</td>\n",
       "      <td>1</td>\n",
       "      <td>1</td>\n",
       "      <td>120</td>\n",
       "      <td>236</td>\n",
       "      <td>0</td>\n",
       "      <td>1</td>\n",
       "      <td>178</td>\n",
       "      <td>0</td>\n",
       "      <td>0.8</td>\n",
       "      <td>2</td>\n",
       "      <td>0</td>\n",
       "      <td>2</td>\n",
       "      <td>1</td>\n",
       "    </tr>\n",
       "    <tr>\n",
       "      <th>4</th>\n",
       "      <td>57</td>\n",
       "      <td>0</td>\n",
       "      <td>0</td>\n",
       "      <td>120</td>\n",
       "      <td>354</td>\n",
       "      <td>0</td>\n",
       "      <td>1</td>\n",
       "      <td>163</td>\n",
       "      <td>1</td>\n",
       "      <td>0.6</td>\n",
       "      <td>2</td>\n",
       "      <td>0</td>\n",
       "      <td>2</td>\n",
       "      <td>1</td>\n",
       "    </tr>\n",
       "  </tbody>\n",
       "</table>\n",
       "</div>"
      ],
      "text/plain": [
       "   age  sex  cp  trestbps  chol  fbs  restecg  thalach  exang  oldpeak  slope  \\\n",
       "0   63    1   3       145   233    1        0      150      0      2.3      0   \n",
       "1   37    1   2       130   250    0        1      187      0      3.5      0   \n",
       "2   41    0   1       130   204    0        0      172      0      1.4      2   \n",
       "3   56    1   1       120   236    0        1      178      0      0.8      2   \n",
       "4   57    0   0       120   354    0        1      163      1      0.6      2   \n",
       "\n",
       "   ca  thal  target  \n",
       "0   0     1       1  \n",
       "1   0     2       1  \n",
       "2   0     2       1  \n",
       "3   0     2       1  \n",
       "4   0     2       1  "
      ]
     },
     "execution_count": 3,
     "metadata": {},
     "output_type": "execute_result"
    }
   ],
   "source": [
    "df.head()"
   ]
  },
  {
   "cell_type": "markdown",
   "metadata": {},
   "source": [
    "### Functions to filter the data and create bins for histograms may come in handy"
   ]
  },
  {
   "cell_type": "code",
   "execution_count": 15,
   "metadata": {
    "collapsed": true
   },
   "outputs": [],
   "source": [
    "# Useful functions\n",
    "def make_bins_simple(min_bin, max_bin, size):\n",
    "    '''\n",
    "    Create bins for histogram plots\n",
    "    '''\n",
    "    return list(range(min_bin, max_bin + size, size))\n",
    "\n",
    "\n",
    "def make_bins_max(df_col, size):\n",
    "    '''\n",
    "    Create bins for histogram plots\n",
    "    '''\n",
    "    min_val = m.floor(min(df_col)/10)*10\n",
    "    max_val = m.ceil(max(df_col)/10)*10\n",
    "    \n",
    "    return list(range(min_val, max_val + size, size))\n",
    "\n",
    "\n",
    "def age_sex_df(df, min_age, max_age, sex):\n",
    "    '''\n",
    "    Custom filter data frame\n",
    "    '''\n",
    "    return df.loc[(df.age > min_age) & (df.age < max_age) & (df.sex == sex)]"
   ]
  },
  {
   "cell_type": "markdown",
   "metadata": {
    "collapsed": true
   },
   "source": [
    "# 1. Exploratory data analysis: \n",
    "## a) Distribution of gender"
   ]
  },
  {
   "cell_type": "code",
   "execution_count": 16,
   "metadata": {
    "collapsed": false
   },
   "outputs": [
    {
     "name": "stderr",
     "output_type": "stream",
     "text": [
      "/Users/Anton/Library/Python/3.8/lib/python/site-packages/seaborn/distributions.py:2551: FutureWarning: `distplot` is a deprecated function and will be removed in a future version. Please adapt your code to use either `displot` (a figure-level function with similar flexibility) or `histplot` (an axes-level function for histograms).\n",
      "  warnings.warn(msg, FutureWarning)\n",
      "/Users/Anton/Library/Python/3.8/lib/python/site-packages/seaborn/distributions.py:2551: FutureWarning: `distplot` is a deprecated function and will be removed in a future version. Please adapt your code to use either `displot` (a figure-level function with similar flexibility) or `histplot` (an axes-level function for histograms).\n",
      "  warnings.warn(msg, FutureWarning)\n"
     ]
    },
    {
     "data": {
      "image/png": "[encoded data removed]",
      "text/plain": [
       "<Figure size 432x288 with 1 Axes>"
      ]
     },
     "metadata": {
      "needs_background": "light"
     },
     "output_type": "display_data"
    }
   ],
   "source": [
    "male_df = age_sex_df(df, 0, 100, 1)\n",
    "female_df = age_sex_df(df, 0, 100, 0)\n",
    "bins = make_bins_max(df.age, 5)\n",
    "sns.distplot(male_df.age, bins = bins, label = 'male')\n",
    "sns.distplot(female_df.age, bins = bins, label = 'female')\n",
    "plt.legend()\n",
    "plt.title(\"Population distribution for males and females\")\n",
    "plt.show()"
   ]
  },
  {
   "cell_type": "markdown",
   "metadata": {},
   "source": [
    "## b) Histogram with of resting blood presure"
   ]
  },
  {
   "cell_type": "code",
   "execution_count": 17,
   "metadata": {
    "collapsed": false
   },
   "outputs": [
    {
     "name": "stderr",
     "output_type": "stream",
     "text": [
      "/Users/Anton/Library/Python/3.8/lib/python/site-packages/seaborn/distributions.py:2551: FutureWarning: `distplot` is a deprecated function and will be removed in a future version. Please adapt your code to use either `displot` (a figure-level function with similar flexibility) or `histplot` (an axes-level function for histograms).\n",
      "  warnings.warn(msg, FutureWarning)\n",
      "/Users/Anton/Library/Python/3.8/lib/python/site-packages/seaborn/distributions.py:2551: FutureWarning: `distplot` is a deprecated function and will be removed in a future version. Please adapt your code to use either `displot` (a figure-level function with similar flexibility) or `histplot` (an axes-level function for histograms).\n",
      "  warnings.warn(msg, FutureWarning)\n"
     ]
    },
    {
     "data": {
      "image/png": "[encoded data removed]",
      "text/plain": [
       "<Figure size 432x288 with 1 Axes>"
      ]
     },
     "metadata": {
      "needs_background": "light"
     },
     "output_type": "display_data"
    }
   ],
   "source": [
    "no_presence = (df.loc[(df.trestbps > 0) & (df.target == 0)]).trestbps\n",
    "presence = (df.loc[(df.trestbps > 0) & (df.target == 1)]).trestbps\n",
    "mean_np, mean_p = np.around(np.mean(no_presence), 1), np.around(np.mean(presence), 1)\n",
    "#bins = make_bins_max(df.trestbps, 10)\n",
    "sns.distplot(no_presence, label = 'no presence')\n",
    "sns.distplot(presence, label = 'presence')\n",
    "plt.xlabel('resting blood pressure (mmHg)')\n",
    "plt.ylabel('frequency')\n",
    "plt.legend()\n",
    "plt.title(f\"\"\"Mean rbp (presence) = {mean_p} \n",
    "Mean rbp (no presence) = {mean_np}\"\"\")\n",
    "plt.show()"
   ]
  },
  {
   "cell_type": "markdown",
   "metadata": {},
   "source": [
    "## c) Histogram of fasting blood sugar, and chest pain reports\n",
    "### target 0 = no presence, target 1 = presence of heart disease"
   ]
  },
  {
   "cell_type": "code",
   "execution_count": 18,
   "metadata": {
    "collapsed": false
   },
   "outputs": [
    {
     "name": "stderr",
     "output_type": "stream",
     "text": [
      "/Users/Anton/Library/Python/3.8/lib/python/site-packages/seaborn/_decorators.py:36: FutureWarning: Pass the following variable as a keyword arg: y. From version 0.12, the only valid positional argument will be `data`, and passing other arguments without an explicit keyword will result in an error or misinterpretation.\n",
      "  warnings.warn(\n"
     ]
    },
    {
     "data": {
      "image/png": "[encoded data removed]",
      "text/plain": [
       "<Figure size 432x288 with 1 Axes>"
      ]
     },
     "metadata": {
      "needs_background": "light"
     },
     "output_type": "display_data"
    }
   ],
   "source": [
    "sns.kdeplot(df.cp, df.fbs, fill=True, hue = df.target, alpha = 1, thresh=.1)\n",
    "plt.xlabel('Chest pain')\n",
    "plt.ylabel('Fasting blood sugar > 120 mg/dl')\n",
    "plt.xticks([0,1,2,3])\n",
    "plt.yticks([0,1])\n",
    "plt.xlim(-0.5, 3.5)\n",
    "plt.ylim(-0.5,1.5)\n",
    "plt.title(\"Kernel Density Estimate (KDE) plot\")\n",
    "plt.show()"
   ]
  },
  {
   "cell_type": "markdown",
   "metadata": {},
   "source": [
    "## 2.  Applying a neural network model \n",
    "## a) Preprocessing data\n",
    "#### Check that the data is balanced (same number of target categories 0s and 1s)"
   ]
  },
  {
   "cell_type": "code",
   "execution_count": 40,
   "metadata": {
    "collapsed": false
   },
   "outputs": [
    {
     "data": {
      "text/plain": [
       "(0.5445544554455446, 303)"
      ]
     },
     "execution_count": 40,
     "metadata": {},
     "output_type": "execute_result"
    }
   ],
   "source": [
    "sum(df.target)/len(df.target), len(df.target)\n",
    "# There are more 1s than 0s but not too many."
   ]
  },
  {
   "cell_type": "markdown",
   "metadata": {},
   "source": [
    "#### Define target and scaled feature arrays"
   ]
  },
  {
   "cell_type": "code",
   "execution_count": 20,
   "metadata": {
    "collapsed": false
   },
   "outputs": [],
   "source": [
    "# Separate features and targets into numpy arrays\n",
    "# scale features using the sklearn preprocessing package\n",
    "targets = np.array(df.target)\n",
    "unscaled_features = np.array(df.loc[:, df.columns != 'target'])\n",
    "scaled_features = preprocessing.scale(unscaled_features)"
   ]
  },
  {
   "cell_type": "markdown",
   "metadata": {},
   "source": [
    "#### Shuffle the data (targets are currently ordered, 1s first, 0s second)"
   ]
  },
  {
   "cell_type": "code",
   "execution_count": 21,
   "metadata": {
    "collapsed": false
   },
   "outputs": [],
   "source": [
    "shuffled_indices = np.arange(scaled_features.shape[0])\n",
    "np.random.shuffle(shuffled_indices)\n",
    "# Shuffle by assigninf random index\n",
    "shuffled_features = scaled_features[shuffled_indices]\n",
    "shuffled_targets = targets[shuffled_indices]"
   ]
  },
  {
   "cell_type": "markdown",
   "metadata": {},
   "source": [
    "#### Split data into train, test and validation sets (80:10:10)"
   ]
  },
  {
   "cell_type": "code",
   "execution_count": 22,
   "metadata": {
    "collapsed": false
   },
   "outputs": [],
   "source": [
    "sample_counts = shuffled_features.shape[0]\n",
    "train_counts = int(0.8 * sample_counts)\n",
    "validation_counts = int(0.1 * sample_counts)\n",
    "test_counts = sample_counts - train_counts - validation_counts\n",
    "\n",
    "train_inputs = shuffled_features[:train_counts]\n",
    "train_targets = shuffled_targets[:train_counts]\n",
    "\n",
    "validation_inputs = shuffled_features[train_counts:train_counts+validation_counts]\n",
    "validation_targets = shuffled_targets[train_counts:train_counts+validation_counts]\n",
    "\n",
    "test_inputs = shuffled_features[train_counts + validation_counts:]\n",
    "test_targets = shuffled_targets[train_counts + validation_counts:]"
   ]
  },
  {
   "cell_type": "markdown",
   "metadata": {},
   "source": [
    "#### Save the three datasets in .npz format for TensorFlow"
   ]
  },
  {
   "cell_type": "code",
   "execution_count": 23,
   "metadata": {
    "collapsed": true
   },
   "outputs": [],
   "source": [
    "np.savez('heart_train', inputs=train_inputs, targets=train_targets)\n",
    "np.savez('heart_validation', inputs=validation_inputs, targets=validation_targets)\n",
    "np.savez('heart_test', inputs=test_inputs, targets=test_targets)"
   ]
  },
  {
   "cell_type": "markdown",
   "metadata": {
    "collapsed": true
   },
   "source": [
    "## b) Create ML algorithm"
   ]
  },
  {
   "cell_type": "code",
   "execution_count": 41,
   "metadata": {
    "collapsed": true
   },
   "outputs": [],
   "source": [
    "import numpy as np\n",
    "\n",
    "# Create a class that will do the batching for the algorithm\n",
    "# This code is extremely reusable. You should just change Audiobooks_data everywhere in the code\n",
    "class Heart_Data_Reader():\n",
    "    # Dataset is a mandatory arugment, while the batch_size is optional\n",
    "    # If you don't input batch_size, it will automatically take the value: None\n",
    "    def __init__(self, dataset, batch_size = None):\n",
    "    \n",
    "        # The dataset that loads is one of \"train\", \"validation\", \"test\".\n",
    "        # e.g. if I call this class with x('train',5), it will load 'heart_train.npz' with a batch size of 5.\n",
    "        npz = np.load('heart_{0}.npz'.format(dataset))\n",
    "        \n",
    "        # Two variables that take the values of the inputs and the targets. Inputs are floats, targets are integers\n",
    "        self.inputs, self.targets = npz['inputs'].astype(np.float), npz['targets'].astype(np.int)\n",
    "        \n",
    "        # Counts the batch number, given the size you feed it later\n",
    "        # If the batch size is None, we are either validating or testing, so we want to take the data in a single batch\n",
    "        if batch_size is None:\n",
    "            self.batch_size = self.inputs.shape[0]\n",
    "        else:\n",
    "            self.batch_size = batch_size\n",
    "        self.curr_batch = 0\n",
    "        self.batch_count = self.inputs.shape[0] // self.batch_size\n",
    "    \n",
    "    # A method which loads the next batch\n",
    "    def __next__(self):\n",
    "        if self.curr_batch >= self.batch_count:\n",
    "            self.curr_batch = 0\n",
    "            raise StopIteration()\n",
    "            \n",
    "        # You slice the dataset in batches and then the \"next\" function loads them one after the other\n",
    "        batch_slice = slice(self.curr_batch * self.batch_size, (self.curr_batch + 1) * self.batch_size)\n",
    "        inputs_batch = self.inputs[batch_slice]\n",
    "        targets_batch = self.targets[batch_slice]\n",
    "        self.curr_batch += 1\n",
    "        \n",
    "        # One-hot encode the targets. In this example it's a bit superfluous since we have a 0/1 column \n",
    "        # as a target already but we're giving you the code regardless, as it will be useful for any \n",
    "        # classification task with more than one target column\n",
    "        classes_num = 2\n",
    "        targets_one_hot = np.zeros((targets_batch.shape[0], classes_num))\n",
    "        targets_one_hot[range(targets_batch.shape[0]), targets_batch] = 1\n",
    "        \n",
    "        # The function will return the inputs batch and the one-hot encoded targets\n",
    "        return inputs_batch, targets_one_hot\n",
    "    \n",
    "        \n",
    "    # A method needed for iterating over the batches, as we will put them in a loop\n",
    "    # This tells Python that the class we're defining is iterable, i.e. that we can use it like:\n",
    "    # for input, output in data: \n",
    "        # do things\n",
    "    # An iterator in Python is a class with a method __next__ that defines exactly how to iterate through its objects\n",
    "    def __iter__(self):\n",
    "        return self"
   ]
  },
  {
   "cell_type": "code",
   "execution_count": 83,
   "metadata": {
    "collapsed": false
   },
   "outputs": [
    {
     "name": "stderr",
     "output_type": "stream",
     "text": [
      "/Users/Anton/Library/Python/3.8/lib/python/site-packages/tensorflow/python/client/session.py:1751: UserWarning: An interactive session is already active. This can cause out-of-memory errors in some cases. You must explicitly call `InteractiveSession.close()` to release resources held by the other session(s).\n",
      "  warnings.warn('An interactive session is already active. This can '\n"
     ]
    },
    {
     "name": "stdout",
     "output_type": "stream",
     "text": [
      "End of training with 140 batches\n"
     ]
    }
   ],
   "source": [
    "# We need to import TF (we didn't need it so far)\n",
    "import tensorflow.compat.v1 as tf\n",
    "tf.disable_v2_behavior()\n",
    "\n",
    "# Input size depends on the number of input variables. We have 13 of them\n",
    "input_size = 13\n",
    "# Output size is 2, as we one-hot encoded the targets.\n",
    "output_size = 2\n",
    "# Choose a hidden_layer_size\n",
    "hidden_layer_size = 200\n",
    "\n",
    "# Reset the default graph, so you can fiddle with the hyperparameters and then rerun the code.\n",
    "tf.reset_default_graph()\n",
    "#tf.compat.v1.reset_default_graph()\n",
    "\n",
    "# Create the placeholders\n",
    "inputs = tf.placeholder(tf.float32, [None, input_size])\n",
    "targets = tf.placeholder(tf.int32, [None, output_size])\n",
    "\n",
    "# Outline the model. We will create a net with 2 hidden layers\n",
    "weights_1 = tf.get_variable(\"weights_1\", [input_size, hidden_layer_size])\n",
    "biases_1 = tf.get_variable(\"biases_1\", [hidden_layer_size])\n",
    "outputs_1 = tf.nn.relu(tf.matmul(inputs, weights_1) + biases_1)\n",
    "\n",
    "weights_2 = tf.get_variable(\"weights_2\", [hidden_layer_size, hidden_layer_size])\n",
    "biases_2 = tf.get_variable(\"biases_2\", [hidden_layer_size])\n",
    "outputs_2 = tf.nn.sigmoid(tf.matmul(outputs_1, weights_2) + biases_2)\n",
    "\n",
    "weights_3 = tf.get_variable(\"weights_3\", [hidden_layer_size, output_size])\n",
    "biases_3 = tf.get_variable(\"biases_3\", [output_size])\n",
    "# We will incorporate the softmax activation into the loss, as in the previous example\n",
    "outputs = tf.matmul(outputs_2, weights_3) + biases_3\n",
    "\n",
    "# Use the softmax cross entropy loss with logits\n",
    "loss = tf.nn.softmax_cross_entropy_with_logits(logits=outputs, labels=targets)\n",
    "mean_loss = tf.reduce_mean(loss)\n",
    "\n",
    "# Get a 0 or 1 for every input indicating whether it output the correct answer\n",
    "out_equals_target = tf.equal(tf.argmax(outputs, 1), tf.argmax(targets, 1))\n",
    "accuracy = tf.reduce_mean(tf.cast(out_equals_target, tf.float32))\n",
    "\n",
    "# Optimize with Adam\n",
    "optimize = tf.train.AdamOptimizer(learning_rate=0.0001).minimize(mean_loss)\n",
    "\n",
    "# Create a session\n",
    "sess = tf.InteractiveSession()\n",
    "\n",
    "# Initialize the variables\n",
    "initializer = tf.global_variables_initializer()\n",
    "sess.run(initializer)\n",
    "\n",
    "# Choose the batch size\n",
    "batch_size = 140\n",
    "\n",
    "# Set early stopping mechanisms\n",
    "max_epochs = 1000\n",
    "prev_validation_loss = 9999999.\n",
    "\n",
    "# Load the first batch of training and validation, using the class we created. \n",
    "# Arguments are ending of 'heart_<...>', where for <...> we input 'train', 'validation', or 'test'\n",
    "# depending on what we want to load\n",
    "train_data = Heart_Data_Reader('train', batch_size)\n",
    "validation_data = Heart_Data_Reader('validation')\n",
    "\n",
    "validation_loss_list = []\n",
    "training_loss_list = []\n",
    "val_acc_list = []\n",
    "\n",
    "# Create the loop for epochs \n",
    "for epoch_counter in range(max_epochs):\n",
    "\n",
    "    # Set the epoch loss to 0, and make it a float\n",
    "    curr_epoch_loss = 0.\n",
    "\n",
    "    # Iterate over the training data \n",
    "    # Since train_data is an instance of the Heart_Data_Reader class,\n",
    "    # we can iterate through it by implicitly using the __next__ method we defined above.\n",
    "    # As a reminder, it batches samples together, one-hot encodes the targets, and returns\n",
    "    # inputs and targets batch by batch\n",
    "    for input_batch, target_batch in train_data:\n",
    "        _, batch_loss = sess.run([optimize, mean_loss], \n",
    "            feed_dict={inputs: input_batch, targets: target_batch})\n",
    "\n",
    "        #Record the batch loss into the current epoch loss\n",
    "        curr_epoch_loss += batch_loss\n",
    "\n",
    "    # Find the mean curr_epoch_loss\n",
    "    # batch_count is a variable, defined in the Heart_Data_Reader class\n",
    "    curr_epoch_loss /= train_data.batch_count\n",
    "\n",
    "    # Set validation loss and accuracy for the epoch to zero\n",
    "    validation_loss = 0.\n",
    "    validation_accuracy = 0.\n",
    "\n",
    "    # Use the same logic of the code to forward propagate the validation set\n",
    "    # There will be a single batch, as the class was created in this way\n",
    "    for input_batch, target_batch in validation_data:\n",
    "        validation_loss, validation_accuracy = sess.run([mean_loss, accuracy],\n",
    "            feed_dict={inputs: input_batch, targets: target_batch})\n",
    "\n",
    "    # Print statistics for the current epoch\n",
    "#     print('Epoch '+str(epoch_counter+1)+\n",
    "#           '. Training loss: '+'{0:.3f}'.format(curr_epoch_loss)+\n",
    "#           '. Validation loss: '+'{0:.3f}'.format(validation_loss)+\n",
    "#           '. Validation accuracy: '+'{0:.2f}'.format(validation_accuracy * 100.)+'%')\n",
    "\n",
    "    validation_loss_list.append(validation_loss)\n",
    "    training_loss_list.append(curr_epoch_loss)\n",
    "    val_acc_list.append(validation_accuracy)\n",
    "\n",
    "    # Trigger early stopping if validation loss begins increasing.\n",
    "    if validation_loss > prev_validation_loss:\n",
    "        #break\n",
    "        pass\n",
    "\n",
    "    # Store this epoch's validation loss to be used as previous in the next iteration.\n",
    "    prev_validation_loss = validation_loss\n",
    "\n",
    "print(f'End of training with {batch_size} batches')"
   ]
  },
  {
   "cell_type": "code",
   "execution_count": 84,
   "metadata": {
    "collapsed": false
   },
   "outputs": [
    {
     "data": {
      "image/png": "[encoded data removed]",
      "text/plain": [
       "<Figure size 432x288 with 1 Axes>"
      ]
     },
     "metadata": {
      "needs_background": "light"
     },
     "output_type": "display_data"
    }
   ],
   "source": [
    "max_val_acc = round(max(val_acc_list)*100,2)\n",
    "\n",
    "val_x = range(len(validation_loss_list))\n",
    "val_y = validation_loss_list\n",
    "\n",
    "train_x = range(len(training_loss_list))\n",
    "train_y = training_loss_list\n",
    "\n",
    "plt.plot(val_x, val_y, label = 'Validation')\n",
    "plt.plot(train_x, train_y, label = 'Training')\n",
    "\n",
    "plt.xlabel(\"epochs\")\n",
    "plt.ylabel(\"validation loss\")\n",
    "plt.legend()\n",
    "plt.title(f\"\"\"Hidden layer size = {hidden_layer_size}\n",
    "Batch size = {batch_size}\n",
    "Validation accuracy = {max_val_acc}%\"\"\")\n",
    "plt.show()  "
   ]
  },
  {
   "cell_type": "code",
   "execution_count": 68,
   "metadata": {
    "collapsed": true
   },
   "outputs": [],
   "source": [
    "def run_nn(hidden_layer_size, max_epochs, batch_size):\n",
    "\n",
    "    # Input size depends on the number of input variables. We have 13 of them\n",
    "    input_size = 13\n",
    "    # Output size is 2, as we one-hot encoded the targets.\n",
    "    output_size = 2\n",
    "    # Choose a hidden_layer_size\n",
    "    #### Function argument given ####\n",
    "\n",
    "    # Reset the default graph, so you can fiddle with the hyperparameters and then rerun the code.\n",
    "    tf.reset_default_graph()\n",
    "    #tf.compat.v1.reset_default_graph()\n",
    "\n",
    "    # Create the placeholders\n",
    "    inputs = tf.placeholder(tf.float32, [None, input_size])\n",
    "    targets = tf.placeholder(tf.int32, [None, output_size])\n",
    "\n",
    "    # Outline the model. We will create a net with 2 hidden layers\n",
    "    weights_1 = tf.get_variable(\"weights_1\", [input_size, hidden_layer_size])\n",
    "    biases_1 = tf.get_variable(\"biases_1\", [hidden_layer_size])\n",
    "    outputs_1 = tf.nn.relu(tf.matmul(inputs, weights_1) + biases_1)\n",
    "\n",
    "    weights_2 = tf.get_variable(\"weights_2\", [hidden_layer_size, hidden_layer_size])\n",
    "    biases_2 = tf.get_variable(\"biases_2\", [hidden_layer_size])\n",
    "    outputs_2 = tf.nn.sigmoid(tf.matmul(outputs_1, weights_2) + biases_2)\n",
    "\n",
    "    weights_3 = tf.get_variable(\"weights_3\", [hidden_layer_size, output_size])\n",
    "    biases_3 = tf.get_variable(\"biases_3\", [output_size])\n",
    "    # We will incorporate the softmax activation into the loss, as in the previous example\n",
    "    outputs = tf.matmul(outputs_2, weights_3) + biases_3\n",
    "\n",
    "    # Use the softmax cross entropy loss with logits\n",
    "    loss = tf.nn.softmax_cross_entropy_with_logits(logits=outputs, labels=targets)\n",
    "    mean_loss = tf.reduce_mean(loss)\n",
    "\n",
    "    # Get a 0 or 1 for every input indicating whether it output the correct answer\n",
    "    out_equals_target = tf.equal(tf.argmax(outputs, 1), tf.argmax(targets, 1))\n",
    "    accuracy = tf.reduce_mean(tf.cast(out_equals_target, tf.float32))\n",
    "\n",
    "    # Optimize with Adam\n",
    "    optimize = tf.train.AdamOptimizer(learning_rate=0.0001).minimize(mean_loss)\n",
    "\n",
    "    # Create a session\n",
    "    sess = tf.InteractiveSession()\n",
    "\n",
    "    # Initialize the variables\n",
    "    initializer = tf.global_variables_initializer()\n",
    "    sess.run(initializer)\n",
    "    \n",
    "    # Choose the batch size\n",
    "    #### Function argument given ####\n",
    "\n",
    "    # Set early stopping mechanisms\n",
    "    #### Function argument given ####\n",
    "    \n",
    "    prev_validation_loss = 9999999.\n",
    "\n",
    "    # Load the first batch of training and validation, using the class we created. \n",
    "    # Arguments are ending of 'heart_<...>', where for <...> we input 'train', 'validation', or 'test'\n",
    "    # depending on what we want to load\n",
    "    train_data = Heart_Data_Reader('train', batch_size)\n",
    "    validation_data = Heart_Data_Reader('validation')\n",
    "\n",
    "    validation_loss_list = []\n",
    "    training_loss_list = []\n",
    "    val_acc_list = []\n",
    "\n",
    "    # Create the loop for epochs \n",
    "    for epoch_counter in range(max_epochs):\n",
    "\n",
    "        # Set the epoch loss to 0, and make it a float\n",
    "        curr_epoch_loss = 0.\n",
    "\n",
    "        # Iterate over the training data \n",
    "        # Since train_data is an instance of the Heart_Data_Reader class,\n",
    "        # we can iterate through it by implicitly using the __next__ method we defined above.\n",
    "        # As a reminder, it batches samples together, one-hot encodes the targets, and returns\n",
    "        # inputs and targets batch by batch\n",
    "        for input_batch, target_batch in train_data:\n",
    "            _, batch_loss = sess.run([optimize, mean_loss], \n",
    "                feed_dict={inputs: input_batch, targets: target_batch})\n",
    "\n",
    "            #Record the batch loss into the current epoch loss\n",
    "            curr_epoch_loss += batch_loss\n",
    "\n",
    "        # Find the mean curr_epoch_loss\n",
    "        # batch_count is a variable, defined in the Heart_Data_Reader class\n",
    "        curr_epoch_loss /= train_data.batch_count\n",
    "\n",
    "        # Set validation loss and accuracy for the epoch to zero\n",
    "        validation_loss = 0.\n",
    "        validation_accuracy = 0.\n",
    "\n",
    "        # Use the same logic of the code to forward propagate the validation set\n",
    "        # There will be a single batch, as the class was created in this way\n",
    "        for input_batch, target_batch in validation_data:\n",
    "            validation_loss, validation_accuracy = sess.run([mean_loss, accuracy],\n",
    "                feed_dict={inputs: input_batch, targets: target_batch})\n",
    "\n",
    "        # Print statistics for the current epoch\n",
    "    #     print('Epoch '+str(epoch_counter+1)+\n",
    "    #           '. Training loss: '+'{0:.3f}'.format(curr_epoch_loss)+\n",
    "    #           '. Validation loss: '+'{0:.3f}'.format(validation_loss)+\n",
    "    #           '. Validation accuracy: '+'{0:.2f}'.format(validation_accuracy * 100.)+'%')\n",
    "\n",
    "        validation_loss_list.append(validation_loss)\n",
    "        training_loss_list.append(curr_epoch_loss)\n",
    "        val_acc_list.append(validation_accuracy)\n",
    "\n",
    "\n",
    "        # Trigger early stopping if validation loss begins increasing.\n",
    "        if validation_loss > prev_validation_loss:\n",
    "            #break\n",
    "            pass\n",
    "\n",
    "        # Store this epoch's validation loss to be used as previous in the next iteration.\n",
    "        prev_validation_loss = validation_loss\n",
    "\n",
    "    print(f'End of training with {hidden_layer_size} hidden layers, {batch_size} batches')\n",
    "    \n",
    "#     ########## PLOTTNIG\n",
    "#     max_val_acc = round(max(val_acc_list)*100,2)\n",
    "\n",
    "#     val_x = range(len(validation_loss_list))\n",
    "#     val_y = validation_loss_list\n",
    "\n",
    "#     train_x = range(len(training_loss_list))\n",
    "#     train_y = training_loss_list\n",
    "\n",
    "#     plt.plot(val_x, val_y, label = 'Validation')\n",
    "#     plt.plot(train_x, train_y, label = 'Training')\n",
    "\n",
    "#     plt.xlabel(\"epochs\")\n",
    "#     plt.ylabel(\"validation loss\")\n",
    "#     plt.legend()\n",
    "#     plt.title(f\"\"\"Hidden layer size = {hidden_layer_size}\n",
    "#     Batch size = {batch_size}\n",
    "#     Maximum validation accuracy = {max_val_acc}%\"\"\")\n",
    "#     plt.show()  \n",
    "    ##############\n",
    "    \n",
    "    return training_loss_list, validation_loss_list, val_acc_list"
   ]
  },
  {
   "cell_type": "code",
   "execution_count": 69,
   "metadata": {
    "collapsed": false
   },
   "outputs": [
    {
     "name": "stderr",
     "output_type": "stream",
     "text": [
      "/Users/Anton/Library/Python/3.8/lib/python/site-packages/tensorflow/python/client/session.py:1751: UserWarning: An interactive session is already active. This can cause out-of-memory errors in some cases. You must explicitly call `InteractiveSession.close()` to release resources held by the other session(s).\n",
      "  warnings.warn('An interactive session is already active. This can '\n"
     ]
    },
    {
     "name": "stdout",
     "output_type": "stream",
     "text": [
      "End of training with 200 hidden layers, 140 batches\n"
     ]
    }
   ],
   "source": [
    "a,b,c = run_nn(200, 2000, 140)"
   ]
  },
  {
   "cell_type": "code",
   "execution_count": 71,
   "metadata": {
    "collapsed": false
   },
   "outputs": [],
   "source": [
    "def run_many(batch_min, batch_max, step):\n",
    "    \n",
    "    \n",
    "    for i in range(batch_min, batch_max, step):\n",
    "        training_loss_list, validation_loss_list, val_acc = run_nn(i, 1500, 140)\n",
    "        max_val_acc = round(max(val_acc)*100,2)\n",
    "        val_x = range(len(validation_loss_list))\n",
    "        val_y = validation_loss_list\n",
    "\n",
    "        train_x = range(len(training_loss_list))\n",
    "        train_y = training_loss_list\n",
    "        \n",
    "        \n",
    "        plt.plot(val_x,val_y, label = i)\n",
    "        plt.xlabel(\"epochs\")\n",
    "        plt.ylabel(\"validation loss\")\n",
    "        plt.legend()\n",
    "    plt.title(f\"\"\"Validaiton loss for different hidden layer sizes\n",
    "    max validation accuracy = {max_val_acc}%\n",
    "    \"\"\")\n",
    "    plt.show()    \n",
    "        \n",
    "    "
   ]
  },
  {
   "cell_type": "code",
   "execution_count": 74,
   "metadata": {
    "collapsed": false
   },
   "outputs": [
    {
     "name": "stderr",
     "output_type": "stream",
     "text": [
      "/Users/Anton/Library/Python/3.8/lib/python/site-packages/tensorflow/python/client/session.py:1751: UserWarning: An interactive session is already active. This can cause out-of-memory errors in some cases. You must explicitly call `InteractiveSession.close()` to release resources held by the other session(s).\n",
      "  warnings.warn('An interactive session is already active. This can '\n"
     ]
    },
    {
     "name": "stdout",
     "output_type": "stream",
     "text": [
      "End of training with 20 hidden layers, 140 batches\n"
     ]
    },
    {
     "name": "stderr",
     "output_type": "stream",
     "text": [
      "/Users/Anton/Library/Python/3.8/lib/python/site-packages/tensorflow/python/client/session.py:1751: UserWarning: An interactive session is already active. This can cause out-of-memory errors in some cases. You must explicitly call `InteractiveSession.close()` to release resources held by the other session(s).\n",
      "  warnings.warn('An interactive session is already active. This can '\n"
     ]
    },
    {
     "name": "stdout",
     "output_type": "stream",
     "text": [
      "End of training with 60 hidden layers, 140 batches\n"
     ]
    },
    {
     "name": "stderr",
     "output_type": "stream",
     "text": [
      "/Users/Anton/Library/Python/3.8/lib/python/site-packages/tensorflow/python/client/session.py:1751: UserWarning: An interactive session is already active. This can cause out-of-memory errors in some cases. You must explicitly call `InteractiveSession.close()` to release resources held by the other session(s).\n",
      "  warnings.warn('An interactive session is already active. This can '\n"
     ]
    },
    {
     "name": "stdout",
     "output_type": "stream",
     "text": [
      "End of training with 100 hidden layers, 140 batches\n"
     ]
    },
    {
     "name": "stderr",
     "output_type": "stream",
     "text": [
      "/Users/Anton/Library/Python/3.8/lib/python/site-packages/tensorflow/python/client/session.py:1751: UserWarning: An interactive session is already active. This can cause out-of-memory errors in some cases. You must explicitly call `InteractiveSession.close()` to release resources held by the other session(s).\n",
      "  warnings.warn('An interactive session is already active. This can '\n"
     ]
    },
    {
     "name": "stdout",
     "output_type": "stream",
     "text": [
      "End of training with 140 hidden layers, 140 batches\n"
     ]
    },
    {
     "name": "stderr",
     "output_type": "stream",
     "text": [
      "/Users/Anton/Library/Python/3.8/lib/python/site-packages/tensorflow/python/client/session.py:1751: UserWarning: An interactive session is already active. This can cause out-of-memory errors in some cases. You must explicitly call `InteractiveSession.close()` to release resources held by the other session(s).\n",
      "  warnings.warn('An interactive session is already active. This can '\n"
     ]
    },
    {
     "name": "stdout",
     "output_type": "stream",
     "text": [
      "End of training with 180 hidden layers, 140 batches\n"
     ]
    },
    {
     "name": "stderr",
     "output_type": "stream",
     "text": [
      "/Users/Anton/Library/Python/3.8/lib/python/site-packages/tensorflow/python/client/session.py:1751: UserWarning: An interactive session is already active. This can cause out-of-memory errors in some cases. You must explicitly call `InteractiveSession.close()` to release resources held by the other session(s).\n",
      "  warnings.warn('An interactive session is already active. This can '\n"
     ]
    },
    {
     "name": "stdout",
     "output_type": "stream",
     "text": [
      "End of training with 220 hidden layers, 140 batches\n"
     ]
    },
    {
     "name": "stderr",
     "output_type": "stream",
     "text": [
      "/Users/Anton/Library/Python/3.8/lib/python/site-packages/tensorflow/python/client/session.py:1751: UserWarning: An interactive session is already active. This can cause out-of-memory errors in some cases. You must explicitly call `InteractiveSession.close()` to release resources held by the other session(s).\n",
      "  warnings.warn('An interactive session is already active. This can '\n"
     ]
    },
    {
     "name": "stdout",
     "output_type": "stream",
     "text": [
      "End of training with 260 hidden layers, 140 batches\n"
     ]
    },
    {
     "name": "stderr",
     "output_type": "stream",
     "text": [
      "/Users/Anton/Library/Python/3.8/lib/python/site-packages/tensorflow/python/client/session.py:1751: UserWarning: An interactive session is already active. This can cause out-of-memory errors in some cases. You must explicitly call `InteractiveSession.close()` to release resources held by the other session(s).\n",
      "  warnings.warn('An interactive session is already active. This can '\n"
     ]
    },
    {
     "name": "stdout",
     "output_type": "stream",
     "text": [
      "End of training with 300 hidden layers, 140 batches\n"
     ]
    },
    {
     "name": "stderr",
     "output_type": "stream",
     "text": [
      "/Users/Anton/Library/Python/3.8/lib/python/site-packages/tensorflow/python/client/session.py:1751: UserWarning: An interactive session is already active. This can cause out-of-memory errors in some cases. You must explicitly call `InteractiveSession.close()` to release resources held by the other session(s).\n",
      "  warnings.warn('An interactive session is already active. This can '\n"
     ]
    },
    {
     "name": "stdout",
     "output_type": "stream",
     "text": [
      "End of training with 340 hidden layers, 140 batches\n"
     ]
    },
    {
     "name": "stderr",
     "output_type": "stream",
     "text": [
      "/Users/Anton/Library/Python/3.8/lib/python/site-packages/tensorflow/python/client/session.py:1751: UserWarning: An interactive session is already active. This can cause out-of-memory errors in some cases. You must explicitly call `InteractiveSession.close()` to release resources held by the other session(s).\n",
      "  warnings.warn('An interactive session is already active. This can '\n"
     ]
    },
    {
     "name": "stdout",
     "output_type": "stream",
     "text": [
      "End of training with 380 hidden layers, 140 batches\n"
     ]
    },
    {
     "data": {
      "image/png": "[encoded data removed]",
      "text/plain": [
       "<Figure size 432x288 with 1 Axes>"
      ]
     },
     "metadata": {
      "needs_background": "light"
     },
     "output_type": "display_data"
    }
   ],
   "source": [
    "run_many(20, 420, 40)"
   ]
  },
  {
   "cell_type": "code",
   "execution_count": null,
   "metadata": {
    "collapsed": true
   },
   "outputs": [],
   "source": []
  },
  {
   "cell_type": "code",
   "execution_count": null,
   "metadata": {
    "collapsed": true
   },
   "outputs": [],
   "source": []
  }
 ],
 "metadata": {
  "kernelspec": {
   "display_name": "Python 3",
   "language": "python",
   "name": "python3"
  },
  "language_info": {
   "codemirror_mode": {
    "name": "ipython",
    "version": 3
   },
   "file_extension": ".py",
   "mimetype": "text/x-python",
   "name": "python",
   "nbconvert_exporter": "python",
   "pygments_lexer": "ipython3",
   "version": "3.8.1"
  }
 },
 "nbformat": 4,
 "nbformat_minor": 4
}
